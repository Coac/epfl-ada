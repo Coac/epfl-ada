{
 "cells": [
  {
   "cell_type": "markdown",
   "metadata": {},
   "source": [
    "# Table of Contents\n",
    " <p><div class=\"lev1\"><a href=\"#Task-1.-Compiling-Ebola-Data\"><span class=\"toc-item-num\">Task 1.&nbsp;&nbsp;</span>Compiling Ebola Data</a></div>\n",
    " <div class=\"lev1\"><a href=\"#Task-2.-RNA-Sequences\"><span class=\"toc-item-num\">Task 2.&nbsp;&nbsp;</span>RNA Sequences</a></div>\n",
    " <div class=\"lev1\"><a href=\"#Task-3.-Class-War-in-Titanic\"><span class=\"toc-item-num\">Task 3.&nbsp;&nbsp;</span>Class War in Titanic</a></div></p>"
   ]
  },
  {
   "cell_type": "code",
   "execution_count": 2,
   "metadata": {
    "collapsed": true
   },
   "outputs": [],
   "source": [
    "DATA_FOLDER = 'Data/' # Use the data folder provided in Tutorial 02 - Intro to Pandas."
   ]
  },
  {
   "cell_type": "markdown",
   "metadata": {},
   "source": [
    "## Task 1. Compiling Ebola Data\n",
    "\n",
    "The `DATA_FOLDER/ebola` folder contains summarized reports of Ebola cases from three countries (Guinea, Liberia and Sierra Leone) during the recent outbreak of the disease in West Africa. For each country, there are daily reports that contain various information about the outbreak in several cities in each country.\n",
    "\n",
    "Use pandas to import these data files into a single `Dataframe`.\n",
    "Using this `DataFrame`, calculate for *each country*, the *daily average per month* of *new cases* and *deaths*.\n",
    "Make sure you handle all the different expressions for *new cases* and *deaths* that are used in the reports."
   ]
  },
  {
   "cell_type": "code",
   "execution_count": 76,
   "metadata": {
    "collapsed": false
   },
   "outputs": [
    {
     "name": "stdout",
     "output_type": "stream",
     "text": [
      "['Conakry', 'Gueckedou', 'Macenta', 'Dabola', 'Kissidougou', 'Dinguiraye', 'Telimele', 'Boffa', 'Kouroussa', 'Dubreka', 'Siguiri', 'Pita', 'Nzerekore']\n",
      "['Conakry', 'Gueckedou', 'Macenta', 'Dabola', 'Kissidougou', 'Dinguiraye', 'Telimele', 'Boffa', 'Kouroussa', 'Dubreka', 'Siguiri', 'Pita', 'Nzerekore']\n",
      "['Conakry', 'Gueckedou', 'Macenta', 'Dabola', 'Kissidougou', 'Dinguiraye', 'Telimele', 'Boffa', 'Kouroussa', 'Dubreka', 'Siguiri', 'Pita', 'Nzerekore']\n",
      "['Conakry', 'Gueckedou', 'Macenta', 'Dabola', 'Kissidougou', 'Dinguiraye', 'Telimele', 'Boffa', 'Kouroussa', 'Dubreka', 'Siguiri', 'Pita', 'Nzerekore']\n",
      "['Conakry', 'Gueckedou', 'Macenta', 'Dabola', 'Kissidougou', 'Dinguiraye', 'Telimele', 'Boffa', 'Kouroussa', 'Dubreka', 'Siguiri', 'Pita', 'Nzerekore']\n",
      "['Conakry', 'Gueckedou', 'Macenta', 'Dabola', 'Kissidougou', 'Dinguiraye', 'Telimele', 'Boffa', 'Kouroussa', 'Dubreka', 'Siguiri', 'Pita', 'Nzerekore']\n",
      "['Conakry', 'Gueckedou', 'Macenta', 'Dabola', 'Kissidougou', 'Dinguiraye', 'Telimele', 'Boffa', 'Kouroussa', 'Dubreka', 'Siguiri', 'Pita', 'Nzerekore']\n",
      "['Conakry', 'Gueckedou', 'Macenta', 'Dabola', 'Kissidougou', 'Dinguiraye', 'Telimele', 'Boffa', 'Kouroussa', 'Dubreka', 'Siguiri', 'Pita', 'Nzerekore']\n",
      "['Conakry', 'Gueckedou', 'Macenta', 'Dabola', 'Kissidougou', 'Dinguiraye', 'Telimele', 'Boffa', 'Kouroussa', 'Dubreka', 'Siguiri', 'Pita', 'Nzerekore']\n",
      "['Conakry', 'Gueckedou', 'Macenta', 'Dabola', 'Kissidougou', 'Dinguiraye', 'Telimele', 'Boffa', 'Kouroussa', 'Dubreka', 'Siguiri', 'Pita', 'Nzerekore']\n",
      "['Conakry', 'Gueckedou', 'Macenta', 'Dabola', 'Kissidougou', 'Dinguiraye', 'Telimele', 'Boffa', 'Kouroussa', 'Dubreka', 'Siguiri', 'Pita', 'Nzerekore']\n",
      "['Conakry', 'Gueckedou', 'Macenta', 'Dabola', 'Kissidougou', 'Dinguiraye', 'Telimele', 'Boffa', 'Kouroussa', 'Dubreka', 'Siguiri', 'Pita', 'Nzerekore']\n",
      "['Conakry', 'Gueckedou', 'Macenta', 'Dabola', 'Kissidougou', 'Dinguiraye', 'Telimele', 'Boffa', 'Kouroussa', 'Dubreka', 'Siguiri', 'Pita', 'Nzerekore']\n",
      "['Conakry', 'Gueckedou', 'Macenta', 'Dabola', 'Kissidougou', 'Dinguiraye', 'Telimele', 'Boffa', 'Kouroussa', 'Dubreka', 'Siguiri', 'Pita', 'Nzerekore']\n",
      "['Conakry', 'Gueckedou', 'Macenta', 'Dabola', 'Kissidougou', 'Dinguiraye', 'Telimele', 'Boffa', 'Kouroussa', 'Dubreka', 'Siguiri', 'Pita', 'Nzerekore']\n",
      "['Conakry', 'Gueckedou', 'Macenta', 'Dabola', 'Kissidougou', 'Dinguiraye', 'Telimele', 'Boffa', 'Kouroussa', 'Dubreka', 'Siguiri', 'Pita', 'Nzerekore']\n",
      "['Conakry', 'Gueckedou', 'Macenta', 'Dabola', 'Kissidougou', 'Dinguiraye', 'Telimele', 'Boffa', 'Kouroussa', 'Dubreka', 'Siguiri', 'Pita', 'Nzerekore']\n",
      "['Conakry', 'Gueckedou', 'Macenta', 'Dabola', 'Kissidougou', 'Dinguiraye', 'Telimele', 'Boffa', 'Kouroussa', 'Dubreka', 'Siguiri', 'Pita', 'Nzerekore']\n",
      "['Conakry', 'Gueckedou', 'Macenta', 'Dabola', 'Kissidougou', 'Dinguiraye', 'Telimele', 'Boffa', 'Kouroussa', 'Dubreka', 'Siguiri', 'Pita', 'Nzerekore']\n",
      "['Conakry', 'Gueckedou', 'Macenta', 'Dabola', 'Kissidougou', 'Dinguiraye', 'Telimele', 'Boffa', 'Kouroussa', 'Dubreka', 'Siguiri', 'Pita', 'Nzerekore']\n",
      "['Conakry', 'Gueckedou', 'Macenta', 'Dabola', 'Kissidougou', 'Dinguiraye', 'Telimele', 'Boffa', 'Kouroussa', 'Dubreka', 'Siguiri', 'Pita', 'Nzerekore']\n",
      "['Conakry', 'Gueckedou', 'Macenta', 'Dabola', 'Kissidougou', 'Dinguiraye', 'Telimele', 'Boffa', 'Kouroussa', 'Dubreka', 'Siguiri', 'Pita', 'Nzerekore']\n"
     ]
    }
   ],
   "source": [
    "# Write your answer here\n",
    "import glob\n",
    "import os\n",
    "import pandas as pd\n",
    "data_ebola = os.path.join(DATA_FOLDER,\"ebola\")\n",
    "df = pd.DataFrame()\n",
    "for file in glob.glob(data_ebola+\"/*/*.csv\"):\n",
    "    if(file.find('guinea') > 0):\n",
    "        new = pd.read_csv(file)\n",
    "        try:\n",
    "            if(list(new.columns.values)[3:] == len(city)):\n",
    "                print('City list different')\n",
    "        except:\n",
    "            city = list(new.columns.values)[3:]\n",
    "            print(city)\n",
    "        for place in city:\n",
    "            \n",
    "    \n"
   ]
  },
  {
   "cell_type": "code",
   "execution_count": 72,
   "metadata": {
    "collapsed": false
   },
   "outputs": [],
   "source": []
  },
  {
   "cell_type": "code",
   "execution_count": 22,
   "metadata": {
    "collapsed": false
   },
   "outputs": [
    {
     "data": {
      "text/html": [
       "<div>\n",
       "<table border=\"1\" class=\"dataframe\">\n",
       "  <thead>\n",
       "    <tr style=\"text-align: right;\">\n",
       "      <th></th>\n",
       "      <th>34 Military Hospital</th>\n",
       "      <th>Beyla</th>\n",
       "      <th>Bo</th>\n",
       "      <th>Bo EMC</th>\n",
       "      <th>Boffa</th>\n",
       "      <th>Bombali</th>\n",
       "      <th>Bomi County</th>\n",
       "      <th>Bong County</th>\n",
       "      <th>Bonthe</th>\n",
       "      <th>Conakry</th>\n",
       "      <th>...</th>\n",
       "      <th>Totals</th>\n",
       "      <th>Unnamed: 18</th>\n",
       "      <th>Variable</th>\n",
       "      <th>Western area</th>\n",
       "      <th>Western area combined</th>\n",
       "      <th>Western area rural</th>\n",
       "      <th>Western area urban</th>\n",
       "      <th>Yomou</th>\n",
       "      <th>date</th>\n",
       "      <th>variable</th>\n",
       "    </tr>\n",
       "  </thead>\n",
       "  <tbody>\n",
       "    <tr>\n",
       "      <th>0</th>\n",
       "      <td>NaN</td>\n",
       "      <td>NaN</td>\n",
       "      <td>NaN</td>\n",
       "      <td>NaN</td>\n",
       "      <td>0</td>\n",
       "      <td>NaN</td>\n",
       "      <td>NaN</td>\n",
       "      <td>NaN</td>\n",
       "      <td>NaN</td>\n",
       "      <td>5</td>\n",
       "      <td>...</td>\n",
       "      <td>5</td>\n",
       "      <td>NaN</td>\n",
       "      <td>NaN</td>\n",
       "      <td>NaN</td>\n",
       "      <td>NaN</td>\n",
       "      <td>NaN</td>\n",
       "      <td>NaN</td>\n",
       "      <td>NaN</td>\n",
       "      <td>NaN</td>\n",
       "      <td>NaN</td>\n",
       "    </tr>\n",
       "    <tr>\n",
       "      <th>1</th>\n",
       "      <td>NaN</td>\n",
       "      <td>NaN</td>\n",
       "      <td>NaN</td>\n",
       "      <td>NaN</td>\n",
       "      <td>0</td>\n",
       "      <td>NaN</td>\n",
       "      <td>NaN</td>\n",
       "      <td>NaN</td>\n",
       "      <td>NaN</td>\n",
       "      <td>0</td>\n",
       "      <td>...</td>\n",
       "      <td>0</td>\n",
       "      <td>NaN</td>\n",
       "      <td>NaN</td>\n",
       "      <td>NaN</td>\n",
       "      <td>NaN</td>\n",
       "      <td>NaN</td>\n",
       "      <td>NaN</td>\n",
       "      <td>NaN</td>\n",
       "      <td>NaN</td>\n",
       "      <td>NaN</td>\n",
       "    </tr>\n",
       "    <tr>\n",
       "      <th>2</th>\n",
       "      <td>NaN</td>\n",
       "      <td>NaN</td>\n",
       "      <td>NaN</td>\n",
       "      <td>NaN</td>\n",
       "      <td>0</td>\n",
       "      <td>NaN</td>\n",
       "      <td>NaN</td>\n",
       "      <td>NaN</td>\n",
       "      <td>NaN</td>\n",
       "      <td>1</td>\n",
       "      <td>...</td>\n",
       "      <td>4</td>\n",
       "      <td>NaN</td>\n",
       "      <td>NaN</td>\n",
       "      <td>NaN</td>\n",
       "      <td>NaN</td>\n",
       "      <td>NaN</td>\n",
       "      <td>NaN</td>\n",
       "      <td>NaN</td>\n",
       "      <td>NaN</td>\n",
       "      <td>NaN</td>\n",
       "    </tr>\n",
       "    <tr>\n",
       "      <th>3</th>\n",
       "      <td>NaN</td>\n",
       "      <td>NaN</td>\n",
       "      <td>NaN</td>\n",
       "      <td>NaN</td>\n",
       "      <td>0</td>\n",
       "      <td>NaN</td>\n",
       "      <td>NaN</td>\n",
       "      <td>NaN</td>\n",
       "      <td>NaN</td>\n",
       "      <td>6</td>\n",
       "      <td>...</td>\n",
       "      <td>9</td>\n",
       "      <td>NaN</td>\n",
       "      <td>NaN</td>\n",
       "      <td>NaN</td>\n",
       "      <td>NaN</td>\n",
       "      <td>NaN</td>\n",
       "      <td>NaN</td>\n",
       "      <td>NaN</td>\n",
       "      <td>NaN</td>\n",
       "      <td>NaN</td>\n",
       "    </tr>\n",
       "    <tr>\n",
       "      <th>4</th>\n",
       "      <td>NaN</td>\n",
       "      <td>NaN</td>\n",
       "      <td>NaN</td>\n",
       "      <td>NaN</td>\n",
       "      <td>0</td>\n",
       "      <td>NaN</td>\n",
       "      <td>NaN</td>\n",
       "      <td>NaN</td>\n",
       "      <td>NaN</td>\n",
       "      <td>9</td>\n",
       "      <td>...</td>\n",
       "      <td>11</td>\n",
       "      <td>NaN</td>\n",
       "      <td>NaN</td>\n",
       "      <td>NaN</td>\n",
       "      <td>NaN</td>\n",
       "      <td>NaN</td>\n",
       "      <td>NaN</td>\n",
       "      <td>NaN</td>\n",
       "      <td>NaN</td>\n",
       "      <td>NaN</td>\n",
       "    </tr>\n",
       "  </tbody>\n",
       "</table>\n",
       "<p>5 rows × 68 columns</p>\n",
       "</div>"
      ],
      "text/plain": [
       "   34 Military Hospital Beyla   Bo  Bo EMC Boffa Bombali  Bomi County  \\\n",
       "0                   NaN   NaN  NaN     NaN     0     NaN          NaN   \n",
       "1                   NaN   NaN  NaN     NaN     0     NaN          NaN   \n",
       "2                   NaN   NaN  NaN     NaN     0     NaN          NaN   \n",
       "3                   NaN   NaN  NaN     NaN     0     NaN          NaN   \n",
       "4                   NaN   NaN  NaN     NaN     0     NaN          NaN   \n",
       "\n",
       "   Bong County Bonthe Conakry    ...    Totals Unnamed: 18 Variable  \\\n",
       "0          NaN    NaN       5    ...         5         NaN      NaN   \n",
       "1          NaN    NaN       0    ...         0         NaN      NaN   \n",
       "2          NaN    NaN       1    ...         4         NaN      NaN   \n",
       "3          NaN    NaN       6    ...         9         NaN      NaN   \n",
       "4          NaN    NaN       9    ...        11         NaN      NaN   \n",
       "\n",
       "  Western area Western area combined Western area rural Western area urban  \\\n",
       "0          NaN                   NaN                NaN                NaN   \n",
       "1          NaN                   NaN                NaN                NaN   \n",
       "2          NaN                   NaN                NaN                NaN   \n",
       "3          NaN                   NaN                NaN                NaN   \n",
       "4          NaN                   NaN                NaN                NaN   \n",
       "\n",
       "  Yomou  date  variable  \n",
       "0   NaN   NaN       NaN  \n",
       "1   NaN   NaN       NaN  \n",
       "2   NaN   NaN       NaN  \n",
       "3   NaN   NaN       NaN  \n",
       "4   NaN   NaN       NaN  \n",
       "\n",
       "[5 rows x 68 columns]"
      ]
     },
     "execution_count": 22,
     "metadata": {},
     "output_type": "execute_result"
    }
   ],
   "source": [
    "df.head()"
   ]
  },
  {
   "cell_type": "markdown",
   "metadata": {},
   "source": [
    "## Task 2. RNA Sequences\n",
    "\n",
    "In the `DATA_FOLDER/microbiome` subdirectory, there are 9 spreadsheets of microbiome data that was acquired from high-throughput RNA sequencing procedures, along with a 10<sup>th</sup> file that describes the content of each. \n",
    "\n",
    "Use pandas to import the first 9 spreadsheets into a single `DataFrame`.\n",
    "Then, add the metadata information from the 10<sup>th</sup> spreadsheet as columns in the combined `DataFrame`.\n",
    "Make sure that the final `DataFrame` has a unique index and all the `NaN` values have been replaced by the tag `unknown`."
   ]
  },
  {
   "cell_type": "code",
   "execution_count": null,
   "metadata": {
    "collapsed": true
   },
   "outputs": [],
   "source": [
    "# Write your answer here"
   ]
  },
  {
   "cell_type": "markdown",
   "metadata": {},
   "source": [
    "## Task 3. Class War in Titanic\n",
    "\n",
    "Use pandas to import the data file `Data/titanic.xls`. It contains data on all the passengers that travelled on the Titanic."
   ]
  },
  {
   "cell_type": "code",
   "execution_count": 3,
   "metadata": {
    "collapsed": false
   },
   "outputs": [
    {
     "data": {
      "text/html": [
       "<hr><h2>Data frame:titanic3</h2>1309 observations and 14 variables, maximum # NAs:1188<hr>\n",
       "<TABLE BORDER>\n",
       "<tr><td>Name</td><td>Labels</td><td>Units</td><td>Levels</td><td>Storage</td><td>NAs</td></tr>\n",
       "<tr><td>pclass</td><td></td><td></td><td><a href=\"#pclass\"><div align=right>  3</div></a></td><td>integer</td><td><div align=right>   0</div></td></tr>\n",
       "<tr><td>survived</td><td>Survived</td><td></td><td><div align=right></div></td><td>double</td><td><div align=right>   0</div></td></tr>\n",
       "<tr><td>name</td><td>Name</td><td></td><td><div align=right></div></td><td>character</td><td><div align=right>   0</div></td></tr>\n",
       "<tr><td>sex</td><td></td><td></td><td><a href=\"#sex\"><div align=right>  2</div></a></td><td>integer</td><td><div align=right>   0</div></td></tr>\n",
       "<tr><td>age</td><td>Age</td><td>Year</td><td><div align=right></div></td><td>double</td><td><div align=right> 263</div></td></tr>\n",
       "<tr><td>sibsp</td><td>Number of Siblings/Spouses Aboard</td><td></td><td><div align=right></div></td><td>double</td><td><div align=right>   0</div></td></tr>\n",
       "<tr><td>parch</td><td>Number of Parents/Children Aboard</td><td></td><td><div align=right></div></td><td>double</td><td><div align=right>   0</div></td></tr>\n",
       "<tr><td>ticket</td><td>Ticket Number</td><td></td><td><div align=right></div></td><td>character</td><td><div align=right>   0</div></td></tr>\n",
       "<tr><td>fare</td><td>Passenger Fare</td><td>British Pound (\\243)</td><td><div align=right></div></td><td>double</td><td><div align=right>   1</div></td></tr>\n",
       "<tr><td>cabin</td><td></td><td></td><td><a href=\"#cabin\"><div align=right>187</div></a></td><td>integer</td><td><div align=right>   0</div></td></tr>\n",
       "<tr><td>embarked</td><td></td><td></td><td><a href=\"#embarked\"><div align=right>  3</div></a></td><td>integer</td><td><div align=right>   2</div></td></tr>\n",
       "<tr><td>boat</td><td></td><td></td><td><a href=\"#boat\"><div align=right> 28</div></a></td><td>integer</td><td><div align=right>   0</div></td></tr>\n",
       "<tr><td>body</td><td>Body Identification Number</td><td></td><td><div align=right></div></td><td>double</td><td><div align=right>1188</div></td></tr>\n",
       "<tr><td>home.dest</td><td>Home/Destination</td><td></td><td><div align=right></div></td><td>character</td><td><div align=right>   0</div></td></tr>\n",
       "</TABLE>\n",
       "<hr>\n",
       "<TABLE BORDER>\n",
       "<tr><td>Variable</td><td>Levels</td></tr>\n",
       "<tr><td><a name=\"pclass\">pclass</a></td><td>1st</td></tr>\n",
       "<tr><td></td><td>2nd</td></tr>\n",
       "<tr><td></td><td>3rd</td></tr>\n",
       "<tr><td><a name=\"sex\">sex</a></td><td>female</td></tr>\n",
       "<tr><td></td><td>male</td></tr>\n",
       "<tr><td><a name=\"cabin\">cabin</a></td><td></td></tr>\n",
       "<tr><td></td><td>A10</td></tr>\n",
       "<tr><td></td><td>A11</td></tr>\n",
       "<tr><td></td><td>A14</td></tr>\n",
       "<tr><td></td><td>A16</td></tr>\n",
       "<tr><td></td><td>A18</td></tr>\n",
       "<tr><td></td><td>A19</td></tr>\n",
       "<tr><td></td><td>A20</td></tr>\n",
       "<tr><td></td><td>A21</td></tr>\n",
       "<tr><td></td><td>A23</td></tr>\n",
       "<tr><td></td><td>A24</td></tr>\n",
       "<tr><td></td><td>A26</td></tr>\n",
       "<tr><td></td><td>A29</td></tr>\n",
       "<tr><td></td><td>A31</td></tr>\n",
       "<tr><td></td><td>A32</td></tr>\n",
       "<tr><td></td><td>A34</td></tr>\n",
       "<tr><td></td><td>A36</td></tr>\n",
       "<tr><td></td><td>A5</td></tr>\n",
       "<tr><td></td><td>A6</td></tr>\n",
       "<tr><td></td><td>A7</td></tr>\n",
       "<tr><td></td><td>A9</td></tr>\n",
       "<tr><td></td><td>B10</td></tr>\n",
       "<tr><td></td><td>B101</td></tr>\n",
       "<tr><td></td><td>B102</td></tr>\n",
       "<tr><td></td><td>B11</td></tr>\n",
       "<tr><td></td><td>B18</td></tr>\n",
       "<tr><td></td><td>B19</td></tr>\n",
       "<tr><td></td><td>B20</td></tr>\n",
       "<tr><td></td><td>B22</td></tr>\n",
       "<tr><td></td><td>B24</td></tr>\n",
       "<tr><td></td><td>B26</td></tr>\n",
       "<tr><td></td><td>B28</td></tr>\n",
       "<tr><td></td><td>B3</td></tr>\n",
       "<tr><td></td><td>B30</td></tr>\n",
       "<tr><td></td><td>B35</td></tr>\n",
       "<tr><td></td><td>B36</td></tr>\n",
       "<tr><td></td><td>B37</td></tr>\n",
       "<tr><td></td><td>B38</td></tr>\n",
       "<tr><td></td><td>B39</td></tr>\n",
       "<tr><td></td><td>B4</td></tr>\n",
       "<tr><td></td><td>B41</td></tr>\n",
       "<tr><td></td><td>B42</td></tr>\n",
       "<tr><td></td><td>B45</td></tr>\n",
       "<tr><td></td><td>B49</td></tr>\n",
       "<tr><td></td><td>B5</td></tr>\n",
       "<tr><td></td><td>B50</td></tr>\n",
       "<tr><td></td><td>B51 B53 B55</td></tr>\n",
       "<tr><td></td><td>B52 B54 B56</td></tr>\n",
       "<tr><td></td><td>B57 B59 B63 B66</td></tr>\n",
       "<tr><td></td><td>B58 B60</td></tr>\n",
       "<tr><td></td><td>B61</td></tr>\n",
       "<tr><td></td><td>B69</td></tr>\n",
       "<tr><td></td><td>B71</td></tr>\n",
       "<tr><td></td><td>B73</td></tr>\n",
       "<tr><td></td><td>B77</td></tr>\n",
       "<tr><td></td><td>B78</td></tr>\n",
       "<tr><td></td><td>B79</td></tr>\n",
       "<tr><td></td><td>B80</td></tr>\n",
       "<tr><td></td><td>B82 B84</td></tr>\n",
       "<tr><td></td><td>B86</td></tr>\n",
       "<tr><td></td><td>B94</td></tr>\n",
       "<tr><td></td><td>B96 B98</td></tr>\n",
       "<tr><td></td><td>C101</td></tr>\n",
       "<tr><td></td><td>C103</td></tr>\n",
       "<tr><td></td><td>C104</td></tr>\n",
       "<tr><td></td><td>C105</td></tr>\n",
       "<tr><td></td><td>C106</td></tr>\n",
       "<tr><td></td><td>C110</td></tr>\n",
       "<tr><td></td><td>C111</td></tr>\n",
       "<tr><td></td><td>C116</td></tr>\n",
       "<tr><td></td><td>C118</td></tr>\n",
       "<tr><td></td><td>C123</td></tr>\n",
       "<tr><td></td><td>C124</td></tr>\n",
       "<tr><td></td><td>C125</td></tr>\n",
       "<tr><td></td><td>C126</td></tr>\n",
       "<tr><td></td><td>C128</td></tr>\n",
       "<tr><td></td><td>C130</td></tr>\n",
       "<tr><td></td><td>C132</td></tr>\n",
       "<tr><td></td><td>C148</td></tr>\n",
       "<tr><td></td><td>C2</td></tr>\n",
       "<tr><td></td><td>C22 C26</td></tr>\n",
       "<tr><td></td><td>C23 C25 C27</td></tr>\n",
       "<tr><td></td><td>C28</td></tr>\n",
       "<tr><td></td><td>C30</td></tr>\n",
       "<tr><td></td><td>C31</td></tr>\n",
       "<tr><td></td><td>C32</td></tr>\n",
       "<tr><td></td><td>C39</td></tr>\n",
       "<tr><td></td><td>C45</td></tr>\n",
       "<tr><td></td><td>C46</td></tr>\n",
       "<tr><td></td><td>C47</td></tr>\n",
       "<tr><td></td><td>C49</td></tr>\n",
       "<tr><td></td><td>C50</td></tr>\n",
       "<tr><td></td><td>C51</td></tr>\n",
       "<tr><td></td><td>C52</td></tr>\n",
       "<tr><td></td><td>C53</td></tr>\n",
       "<tr><td></td><td>C54</td></tr>\n",
       "<tr><td></td><td>C55 C57</td></tr>\n",
       "<tr><td></td><td>C6</td></tr>\n",
       "<tr><td></td><td>C62 C64</td></tr>\n",
       "<tr><td></td><td>C65</td></tr>\n",
       "<tr><td></td><td>C68</td></tr>\n",
       "<tr><td></td><td>C7</td></tr>\n",
       "<tr><td></td><td>C70</td></tr>\n",
       "<tr><td></td><td>C78</td></tr>\n",
       "<tr><td></td><td>C80</td></tr>\n",
       "<tr><td></td><td>C82</td></tr>\n",
       "<tr><td></td><td>C83</td></tr>\n",
       "<tr><td></td><td>C85</td></tr>\n",
       "<tr><td></td><td>C86</td></tr>\n",
       "<tr><td></td><td>C87</td></tr>\n",
       "<tr><td></td><td>C89</td></tr>\n",
       "<tr><td></td><td>C90</td></tr>\n",
       "<tr><td></td><td>C91</td></tr>\n",
       "<tr><td></td><td>C92</td></tr>\n",
       "<tr><td></td><td>C93</td></tr>\n",
       "<tr><td></td><td>C95</td></tr>\n",
       "<tr><td></td><td>C97</td></tr>\n",
       "<tr><td></td><td>C99</td></tr>\n",
       "<tr><td></td><td>D</td></tr>\n",
       "<tr><td></td><td>D10 D12</td></tr>\n",
       "<tr><td></td><td>D11</td></tr>\n",
       "<tr><td></td><td>D15</td></tr>\n",
       "<tr><td></td><td>D17</td></tr>\n",
       "<tr><td></td><td>D19</td></tr>\n",
       "<tr><td></td><td>D20</td></tr>\n",
       "<tr><td></td><td>D21</td></tr>\n",
       "<tr><td></td><td>D22</td></tr>\n",
       "<tr><td></td><td>D26</td></tr>\n",
       "<tr><td></td><td>D28</td></tr>\n",
       "<tr><td></td><td>D30</td></tr>\n",
       "<tr><td></td><td>D33</td></tr>\n",
       "<tr><td></td><td>D34</td></tr>\n",
       "<tr><td></td><td>D35</td></tr>\n",
       "<tr><td></td><td>D36</td></tr>\n",
       "<tr><td></td><td>D37</td></tr>\n",
       "<tr><td></td><td>D38</td></tr>\n",
       "<tr><td></td><td>D40</td></tr>\n",
       "<tr><td></td><td>D43</td></tr>\n",
       "<tr><td></td><td>D45</td></tr>\n",
       "<tr><td></td><td>D46</td></tr>\n",
       "<tr><td></td><td>D47</td></tr>\n",
       "<tr><td></td><td>D48</td></tr>\n",
       "<tr><td></td><td>D49</td></tr>\n",
       "<tr><td></td><td>D50</td></tr>\n",
       "<tr><td></td><td>D56</td></tr>\n",
       "<tr><td></td><td>D6</td></tr>\n",
       "<tr><td></td><td>D7</td></tr>\n",
       "<tr><td></td><td>D9</td></tr>\n",
       "<tr><td></td><td>E10</td></tr>\n",
       "<tr><td></td><td>E101</td></tr>\n",
       "<tr><td></td><td>E12</td></tr>\n",
       "<tr><td></td><td>E121</td></tr>\n",
       "<tr><td></td><td>E17</td></tr>\n",
       "<tr><td></td><td>E24</td></tr>\n",
       "<tr><td></td><td>E25</td></tr>\n",
       "<tr><td></td><td>E31</td></tr>\n",
       "<tr><td></td><td>E33</td></tr>\n",
       "<tr><td></td><td>E34</td></tr>\n",
       "<tr><td></td><td>E36</td></tr>\n",
       "<tr><td></td><td>E38</td></tr>\n",
       "<tr><td></td><td>E39 E41</td></tr>\n",
       "<tr><td></td><td>E40</td></tr>\n",
       "<tr><td></td><td>E44</td></tr>\n",
       "<tr><td></td><td>E45</td></tr>\n",
       "<tr><td></td><td>E46</td></tr>\n",
       "<tr><td></td><td>E49</td></tr>\n",
       "<tr><td></td><td>E50</td></tr>\n",
       "<tr><td></td><td>E52</td></tr>\n",
       "<tr><td></td><td>E58</td></tr>\n",
       "<tr><td></td><td>E60</td></tr>\n",
       "<tr><td></td><td>E63</td></tr>\n",
       "<tr><td></td><td>E67</td></tr>\n",
       "<tr><td></td><td>E68</td></tr>\n",
       "<tr><td></td><td>E77</td></tr>\n",
       "<tr><td></td><td>E8</td></tr>\n",
       "<tr><td></td><td>F</td></tr>\n",
       "<tr><td></td><td>F E46</td></tr>\n",
       "<tr><td></td><td>F E57</td></tr>\n",
       "<tr><td></td><td>F E69</td></tr>\n",
       "<tr><td></td><td>F G63</td></tr>\n",
       "<tr><td></td><td>F G73</td></tr>\n",
       "<tr><td></td><td>F2</td></tr>\n",
       "<tr><td></td><td>F33</td></tr>\n",
       "<tr><td></td><td>F38</td></tr>\n",
       "<tr><td></td><td>F4</td></tr>\n",
       "<tr><td></td><td>G6</td></tr>\n",
       "<tr><td></td><td>T</td></tr>\n",
       "<tr><td><a name=\"embarked\">embarked</a></td><td>Cherbourg</td></tr>\n",
       "<tr><td></td><td>Queenstown</td></tr>\n",
       "<tr><td></td><td>Southampton</td></tr>\n",
       "<tr><td><a name=\"boat\">boat</a></td><td></td></tr>\n",
       "<tr><td></td><td>1</td></tr>\n",
       "<tr><td></td><td>10</td></tr>\n",
       "<tr><td></td><td>11</td></tr>\n",
       "<tr><td></td><td>12</td></tr>\n",
       "<tr><td></td><td>13</td></tr>\n",
       "<tr><td></td><td>13 15</td></tr>\n",
       "<tr><td></td><td>13 15 B</td></tr>\n",
       "<tr><td></td><td>14</td></tr>\n",
       "<tr><td></td><td>15</td></tr>\n",
       "<tr><td></td><td>15 16</td></tr>\n",
       "<tr><td></td><td>16</td></tr>\n",
       "<tr><td></td><td>2</td></tr>\n",
       "<tr><td></td><td>3</td></tr>\n",
       "<tr><td></td><td>4</td></tr>\n",
       "<tr><td></td><td>5</td></tr>\n",
       "<tr><td></td><td>5 7</td></tr>\n",
       "<tr><td></td><td>5 9</td></tr>\n",
       "<tr><td></td><td>6</td></tr>\n",
       "<tr><td></td><td>7</td></tr>\n",
       "<tr><td></td><td>8</td></tr>\n",
       "<tr><td></td><td>8 10</td></tr>\n",
       "<tr><td></td><td>9</td></tr>\n",
       "<tr><td></td><td>A</td></tr>\n",
       "<tr><td></td><td>B</td></tr>\n",
       "<tr><td></td><td>C</td></tr>\n",
       "<tr><td></td><td>C D</td></tr>\n",
       "<tr><td></td><td>D</td></tr>\n",
       "</TABLE>\n",
       "<hr>\n"
      ],
      "text/plain": [
       "<IPython.core.display.HTML object>"
      ]
     },
     "execution_count": 3,
     "metadata": {},
     "output_type": "execute_result"
    }
   ],
   "source": [
    "from IPython.core.display import HTML\n",
    "HTML(filename=DATA_FOLDER+'/titanic.html')"
   ]
  },
  {
   "cell_type": "markdown",
   "metadata": {},
   "source": [
    "For each of the following questions state clearly your assumptions and discuss your findings:\n",
    "1. Describe the *type* and the *value range* of each attribute. Indicate and transform the attributes that can be `Categorical`. \n",
    "2. Plot histograms for the *travel class*, *embarkation port*, *sex* and *age* attributes. For the latter one, use *discrete decade intervals*. \n",
    "3. Calculate the proportion of passengers by *cabin floor*. Present your results in a *pie chart*.\n",
    "4. For each *travel class*, calculate the proportion of the passengers that survived. Present your results in *pie charts*.\n",
    "5. Calculate the proportion of the passengers that survived by *travel class* and *sex*. Present your results in *a single histogram*.\n",
    "6. Create 2 equally populated *age categories* and calculate survival proportions by *age category*, *travel class* and *sex*. Present your results in a `DataFrame` with unique index."
   ]
  },
  {
   "cell_type": "code",
   "execution_count": 29,
   "metadata": {
    "collapsed": false
   },
   "outputs": [
    {
     "data": {
      "text/plain": [
       "pclass       False\n",
       "survived     False\n",
       "name         False\n",
       "sex          False\n",
       "age           True\n",
       "sibsp        False\n",
       "parch        False\n",
       "ticket       False\n",
       "fare          True\n",
       "cabin         True\n",
       "embarked      True\n",
       "boat          True\n",
       "body          True\n",
       "home.dest     True\n",
       "dtype: bool"
      ]
     },
     "execution_count": 29,
     "metadata": {},
     "output_type": "execute_result"
    }
   ],
   "source": [
    "import pandas as pd\n",
    "titanic = pd.read_excel('Data/titanic.xls')\n",
    "#print(titanic.dtypes) #Data type of each attribute\n",
    "valrange = dict()\n",
    "pd.isnull(titanic).sum()>0"
   ]
  },
  {
   "cell_type": "code",
   "execution_count": 133,
   "metadata": {
    "collapsed": false
   },
   "outputs": [
    {
     "data": {
      "text/plain": [
       "pclass       False\n",
       "survived     False\n",
       "name         False\n",
       "sex          False\n",
       "age          False\n",
       "sibsp        False\n",
       "parch        False\n",
       "ticket       False\n",
       "fare         False\n",
       "cabin        False\n",
       "embarked     False\n",
       "boat         False\n",
       "body         False\n",
       "home.dest    False\n",
       "dtype: bool"
      ]
     },
     "execution_count": 133,
     "metadata": {},
     "output_type": "execute_result"
    }
   ],
   "source": [
    "titanic['body'] = titanic['body'].fillna(0)\n",
    "titanic['age']  = titanic['age'].fillna('XXX')\n",
    "titanic['fare']  = titanic['fare'].fillna(min(titanic['fare']))\n",
    "titanic['cabin']  = titanic['cabin'].fillna('XXX')\n",
    "titanic['embarked']  = titanic['embarked'].fillna('XXX')\n",
    "titanic['boat']  = titanic['boat'].fillna('XXX')\n",
    "titanic['home.dest']  = titanic['home.dest'].fillna('XXX')\n",
    "pd.isnull(titanic).sum()>0"
   ]
  },
  {
   "cell_type": "code",
   "execution_count": 32,
   "metadata": {
    "collapsed": true
   },
   "outputs": [],
   "source": [
    "for var in titanic.columns.values:\n",
    "    if var in titanic.columns.values[~((titanic.dtypes == 'int64' ) |(titanic.dtypes == 'float64'))]:\n",
    "        valrange[var] = set(titanic[var])\n",
    "        #valrange[var]= pd.Series(len(set(titanic[var]))) #Valrange has the number of unique values for each non-numerical attribute\n",
    "    else:                \n",
    "        valrange[var] = {'max':max(titanic[var] ), 'min':min(titanic[var])}\n",
    "catvar = ['pclass','sex','survived','embarked']\n",
    "for var in catvar:\n",
    "    titanic[var] = titanic[var].astype(\"category\")"
   ]
  },
  {
   "cell_type": "code",
   "execution_count": 68,
   "metadata": {
    "collapsed": false
   },
   "outputs": [
    {
     "name": "stdout",
     "output_type": "stream",
     "text": [
      "Populating the interactive namespace from numpy and matplotlib\n"
     ]
    },
    {
     "data": {
      "image/png": "[encoded data removed]",
      "text/plain": [
       "<matplotlib.figure.Figure at 0x260a7a2c88>"
      ]
     },
     "metadata": {},
     "output_type": "display_data"
    },
    {
     "data": {
      "image/png": "[encoded data removed]",
      "text/plain": [
       "<matplotlib.figure.Figure at 0x260d49b0b8>"
      ]
     },
     "metadata": {},
     "output_type": "display_data"
    },
    {
     "data": {
      "image/png": "[encoded data removed]",
      "text/plain": [
       "<matplotlib.figure.Figure at 0x260d4f8ba8>"
      ]
     },
     "metadata": {},
     "output_type": "display_data"
    },
    {
     "data": {
      "text/plain": [
       "array([[<matplotlib.axes._subplots.AxesSubplot object at 0x000000260D4EEFD0>]], dtype=object)"
      ]
     },
     "execution_count": 68,
     "metadata": {},
     "output_type": "execute_result"
    },
    {
     "data": {
      "image/png": "[encoded data removed]",
      "text/plain": [
       "<matplotlib.figure.Figure at 0x260d55be10>"
      ]
     },
     "metadata": {},
     "output_type": "display_data"
    }
   ],
   "source": [
    "%pylab inline\n",
    "classfict = dict()\n",
    "for cab in titanic['cabin']:\n",
    "    if cab != 'XXX':\n",
    "        if cab[0] not in classfict.keys():\n",
    "            classfict[cab[0]] = 0\n",
    "        classfict[cab[0]]+=1\n",
    "plt.bar(range(len(classfict)), classfict.values())\n",
    "plt.xticks(range(len(classfict)), classfict.keys())\n",
    "plt.show()\n",
    "classfict = titanic['embarked'].value_counts()[:-1].to_dict()\n",
    "plt.bar(range(len(classfict)), classfict.values())\n",
    "plt.xticks(range(len(classfict)), classfict.keys())\n",
    "plt.show()\n",
    "classfict = titanic['sex'].value_counts().to_dict()\n",
    "plt.bar(range(len(classfict)), classfict.values())\n",
    "plt.xticks(range(len(classfict)), classfict.keys())\n",
    "plt.show()\n",
    "titanic.hist(column='age')"
   ]
  },
  {
   "cell_type": "code",
   "execution_count": 77,
   "metadata": {
    "collapsed": false
   },
   "outputs": [
    {
     "data": {
      "text/plain": [
       "([<matplotlib.patches.Wedge at 0x260d1f2518>,\n",
       "  <matplotlib.patches.Wedge at 0x260d2b0c50>,\n",
       "  <matplotlib.patches.Wedge at 0x260cf2e160>,\n",
       "  <matplotlib.patches.Wedge at 0x260d2a87b8>,\n",
       "  <matplotlib.patches.Wedge at 0x260d2c94e0>,\n",
       "  <matplotlib.patches.Wedge at 0x260d2ab1d0>,\n",
       "  <matplotlib.patches.Wedge at 0x260d329278>,\n",
       "  <matplotlib.patches.Wedge at 0x260d28a860>],\n",
       " [<matplotlib.text.Text at 0x260d2b0a90>,\n",
       "  <matplotlib.text.Text at 0x260cf2ecc0>,\n",
       "  <matplotlib.text.Text at 0x260d2d28d0>,\n",
       "  <matplotlib.text.Text at 0x260d2a8cf8>,\n",
       "  <matplotlib.text.Text at 0x260d2c9dd8>,\n",
       "  <matplotlib.text.Text at 0x260d2ab390>,\n",
       "  <matplotlib.text.Text at 0x260d31fac8>,\n",
       "  <matplotlib.text.Text at 0x260d28a748>])"
      ]
     },
     "execution_count": 77,
     "metadata": {},
     "output_type": "execute_result"
    },
    {
     "data": {
      "image/png": "[encoded data removed]",
      "text/plain": [
       "<matplotlib.figure.Figure at 0x260d432358>"
      ]
     },
     "metadata": {},
     "output_type": "display_data"
    }
   ],
   "source": [
    "classfict = dict()\n",
    "for i,cab in enumerate(titanic['cabin']):\n",
    "    if cab != 'XXX':\n",
    "        if cab[0] not in classfict.keys():\n",
    "            classfict[cab[0]] = 0\n",
    "        classfict[cab[0]]+= titanic['survived'][i]\n",
    "pyplot.pie([float(v) for v in classfict.values()], labels=[k for k in classfict.keys()])"
   ]
  },
  {
   "cell_type": "code",
   "execution_count": 88,
   "metadata": {
    "collapsed": false
   },
   "outputs": [
    {
     "data": {
      "image/png": "[encoded data removed]",
      "text/plain": [
       "<matplotlib.figure.Figure at 0x260e83d860>"
      ]
     },
     "metadata": {},
     "output_type": "display_data"
    }
   ],
   "source": [
    "classfict = dict()\n",
    "for age,cab,sex in zip(titanic['cabin'],titanic['age'],titanic['sex']):\n",
    "    if cab != 'XXX' & age != 'XXX':\n",
    "        \n",
    "plt.figure(figsize=(16, 4))\n",
    "plt.bar(range(len(classfict)), list(classfict.values())/sum(list(classfict.values())))\n",
    "plt.xticks(range(len(classfict)), classfict.keys())\n",
    "plt.show()"
   ]
  },
  {
   "cell_type": "code",
   "execution_count": 161,
   "metadata": {
    "collapsed": false
   },
   "outputs": [],
   "source": [
    "age = titanic['age'].copy()\n",
    "age = age.sort_values(ascending=True)\n",
    "thresh = age[len(age)//2] \n",
    "def f(ageval):\n",
    "    if(ageval < thresh):\n",
    "        return 'Lower'\n",
    "    else:\n",
    "        return 'upper'\n",
    "mydf = pd.DataFrame(columns= ['agecat','sex','travel_class','survived'])\n",
    "classfict = dict()\n",
    "for i,(age,cab,sex,sur) in enumerate(zip(titanic['age'],titanic['cabin'],titanic['sex'],titanic['survived'])):\n",
    "    if cab != 'XXX' and age != 'XXX':\n",
    "        mydf.loc[i] = [f(age),sex,cab[0],sur]\n",
    "        if f(age)+cab[0]+sex not in classfict.keys():\n",
    "            classfict[f(age)+cab[0]+sex] = 0\n",
    "        classfict[f(age)+cab[0]+sex] += 1"
   ]
  },
  {
   "cell_type": "code",
   "execution_count": null,
   "metadata": {
    "collapsed": true
   },
   "outputs": [],
   "source": []
  }
 ],
 "metadata": {
  "kernelspec": {
   "display_name": "Python 3",
   "language": "python",
   "name": "python3"
  },
  "language_info": {
   "codemirror_mode": {
    "name": "ipython",
    "version": 3
   },
   "file_extension": ".py",
   "mimetype": "text/x-python",
   "name": "python",
   "nbconvert_exporter": "python",
   "pygments_lexer": "ipython3",
   "version": "3.5.3"
  }
 },
 "nbformat": 4,
 "nbformat_minor": 2
}
